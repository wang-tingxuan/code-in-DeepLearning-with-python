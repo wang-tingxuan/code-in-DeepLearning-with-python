{
 "cells": [
  {
   "cell_type": "code",
   "execution_count": 1,
   "metadata": {},
   "outputs": [
    {
     "name": "stderr",
     "output_type": "stream",
     "text": [
      "Using TensorFlow backend.\n"
     ]
    },
    {
     "data": {
      "text/plain": [
       "'2.2.4'"
      ]
     },
     "execution_count": 1,
     "metadata": {},
     "output_type": "execute_result"
    }
   ],
   "source": [
    "import keras\n",
    "keras.__version__"
   ]
  },
  {
   "cell_type": "code",
   "execution_count": 2,
   "metadata": {},
   "outputs": [
    {
     "name": "stderr",
     "output_type": "stream",
     "text": [
      "WARNING: Logging before flag parsing goes to stderr.\n",
      "W0717 20:49:52.425858  7660 deprecation_wrapper.py:119] From E:\\Anaconda3\\lib\\site-packages\\keras\\backend\\tensorflow_backend.py:74: The name tf.get_default_graph is deprecated. Please use tf.compat.v1.get_default_graph instead.\n",
      "\n",
      "W0717 20:49:52.454859  7660 deprecation_wrapper.py:119] From E:\\Anaconda3\\lib\\site-packages\\keras\\backend\\tensorflow_backend.py:517: The name tf.placeholder is deprecated. Please use tf.compat.v1.placeholder instead.\n",
      "\n",
      "W0717 20:49:52.459860  7660 deprecation_wrapper.py:119] From E:\\Anaconda3\\lib\\site-packages\\keras\\backend\\tensorflow_backend.py:4138: The name tf.random_uniform is deprecated. Please use tf.random.uniform instead.\n",
      "\n",
      "W0717 20:49:52.526864  7660 deprecation_wrapper.py:119] From E:\\Anaconda3\\lib\\site-packages\\keras\\backend\\tensorflow_backend.py:3976: The name tf.nn.max_pool is deprecated. Please use tf.nn.max_pool2d instead.\n",
      "\n",
      "W0717 20:49:53.078895  7660 deprecation_wrapper.py:119] From E:\\Anaconda3\\lib\\site-packages\\keras\\backend\\tensorflow_backend.py:174: The name tf.get_default_session is deprecated. Please use tf.compat.v1.get_default_session instead.\n",
      "\n",
      "W0717 20:49:53.079895  7660 deprecation_wrapper.py:119] From E:\\Anaconda3\\lib\\site-packages\\keras\\backend\\tensorflow_backend.py:181: The name tf.ConfigProto is deprecated. Please use tf.compat.v1.ConfigProto instead.\n",
      "\n"
     ]
    }
   ],
   "source": [
    "from keras.applications import VGG16\n",
    "\n",
    "conv_base = VGG16(weights='imagenet',\n",
    "                  include_top=False,\n",
    "                  input_shape=(150, 150, 3))"
   ]
  },
  {
   "cell_type": "code",
   "execution_count": 3,
   "metadata": {},
   "outputs": [
    {
     "name": "stdout",
     "output_type": "stream",
     "text": [
      "_________________________________________________________________\n",
      "Layer (type)                 Output Shape              Param #   \n",
      "=================================================================\n",
      "input_1 (InputLayer)         (None, 150, 150, 3)       0         \n",
      "_________________________________________________________________\n",
      "block1_conv1 (Conv2D)        (None, 150, 150, 64)      1792      \n",
      "_________________________________________________________________\n",
      "block1_conv2 (Conv2D)        (None, 150, 150, 64)      36928     \n",
      "_________________________________________________________________\n",
      "block1_pool (MaxPooling2D)   (None, 75, 75, 64)        0         \n",
      "_________________________________________________________________\n",
      "block2_conv1 (Conv2D)        (None, 75, 75, 128)       73856     \n",
      "_________________________________________________________________\n",
      "block2_conv2 (Conv2D)        (None, 75, 75, 128)       147584    \n",
      "_________________________________________________________________\n",
      "block2_pool (MaxPooling2D)   (None, 37, 37, 128)       0         \n",
      "_________________________________________________________________\n",
      "block3_conv1 (Conv2D)        (None, 37, 37, 256)       295168    \n",
      "_________________________________________________________________\n",
      "block3_conv2 (Conv2D)        (None, 37, 37, 256)       590080    \n",
      "_________________________________________________________________\n",
      "block3_conv3 (Conv2D)        (None, 37, 37, 256)       590080    \n",
      "_________________________________________________________________\n",
      "block3_pool (MaxPooling2D)   (None, 18, 18, 256)       0         \n",
      "_________________________________________________________________\n",
      "block4_conv1 (Conv2D)        (None, 18, 18, 512)       1180160   \n",
      "_________________________________________________________________\n",
      "block4_conv2 (Conv2D)        (None, 18, 18, 512)       2359808   \n",
      "_________________________________________________________________\n",
      "block4_conv3 (Conv2D)        (None, 18, 18, 512)       2359808   \n",
      "_________________________________________________________________\n",
      "block4_pool (MaxPooling2D)   (None, 9, 9, 512)         0         \n",
      "_________________________________________________________________\n",
      "block5_conv1 (Conv2D)        (None, 9, 9, 512)         2359808   \n",
      "_________________________________________________________________\n",
      "block5_conv2 (Conv2D)        (None, 9, 9, 512)         2359808   \n",
      "_________________________________________________________________\n",
      "block5_conv3 (Conv2D)        (None, 9, 9, 512)         2359808   \n",
      "_________________________________________________________________\n",
      "block5_pool (MaxPooling2D)   (None, 4, 4, 512)         0         \n",
      "=================================================================\n",
      "Total params: 14,714,688\n",
      "Trainable params: 14,714,688\n",
      "Non-trainable params: 0\n",
      "_________________________________________________________________\n"
     ]
    }
   ],
   "source": [
    "conv_base.summary()"
   ]
  },
  {
   "cell_type": "code",
   "execution_count": 4,
   "metadata": {},
   "outputs": [
    {
     "name": "stdout",
     "output_type": "stream",
     "text": [
      "Found 2000 images belonging to 2 classes.\n",
      "Found 1000 images belonging to 2 classes.\n",
      "Found 1000 images belonging to 2 classes.\n"
     ]
    }
   ],
   "source": [
    "import os\n",
    "import numpy as np\n",
    "from keras.preprocessing.image import ImageDataGenerator\n",
    "\n",
    "base_dir = r'D:\\keras\\cat and dog'\n",
    "\n",
    "train_dir = os.path.join(base_dir, 'train')\n",
    "validation_dir = os.path.join(base_dir, 'validation')\n",
    "test_dir = os.path.join(base_dir, 'test')\n",
    "\n",
    "datagen = ImageDataGenerator(rescale=1./255)\n",
    "batch_size = 20\n",
    "\n",
    "def extract_features(directory, sample_count):\n",
    "    features = np.zeros(shape=(sample_count, 4, 4, 512))\n",
    "    labels = np.zeros(shape=(sample_count))\n",
    "    generator = datagen.flow_from_directory(\n",
    "        directory,\n",
    "        target_size=(150, 150),\n",
    "        batch_size=batch_size,\n",
    "        class_mode='binary')\n",
    "    i = 0\n",
    "    for inputs_batch, labels_batch in generator:\n",
    "        features_batch = conv_base.predict(inputs_batch)\n",
    "        features[i * batch_size : (i + 1) * batch_size] = features_batch\n",
    "        labels[i * batch_size : (i + 1) * batch_size] = labels_batch\n",
    "        i += 1\n",
    "        if i * batch_size >= sample_count:\n",
    "            # Note that since generators yield data indefinitely in a loop,\n",
    "            # we must `break` after every image has been seen once.\n",
    "            break\n",
    "    return features, labels\n",
    "\n",
    "train_features, train_labels = extract_features(train_dir, 2000)\n",
    "validation_features, validation_labels = extract_features(validation_dir, 1000)\n",
    "test_features, test_labels = extract_features(test_dir, 1000)"
   ]
  },
  {
   "cell_type": "code",
   "execution_count": 5,
   "metadata": {},
   "outputs": [],
   "source": [
    "train_features = np.reshape(train_features, (2000, 4 * 4 * 512))\n",
    "validation_features = np.reshape(validation_features, (1000, 4 * 4 * 512))\n",
    "test_features = np.reshape(test_features, (1000, 4 * 4 * 512))"
   ]
  },
  {
   "cell_type": "code",
   "execution_count": 6,
   "metadata": {},
   "outputs": [
    {
     "name": "stderr",
     "output_type": "stream",
     "text": [
      "W0717 21:26:31.260199  7660 deprecation.py:506] From E:\\Anaconda3\\lib\\site-packages\\keras\\backend\\tensorflow_backend.py:3445: calling dropout (from tensorflow.python.ops.nn_ops) with keep_prob is deprecated and will be removed in a future version.\n",
      "Instructions for updating:\n",
      "Please use `rate` instead of `keep_prob`. Rate should be set to `rate = 1 - keep_prob`.\n",
      "W0717 21:26:31.332203  7660 deprecation_wrapper.py:119] From E:\\Anaconda3\\lib\\site-packages\\keras\\optimizers.py:790: The name tf.train.Optimizer is deprecated. Please use tf.compat.v1.train.Optimizer instead.\n",
      "\n",
      "W0717 21:26:31.357203  7660 deprecation.py:323] From E:\\Anaconda3\\lib\\site-packages\\tensorflow\\python\\ops\\nn_impl.py:180: add_dispatch_support.<locals>.wrapper (from tensorflow.python.ops.array_ops) is deprecated and will be removed in a future version.\n",
      "Instructions for updating:\n",
      "Use tf.where in 2.0, which has the same broadcast rule as np.where\n"
     ]
    },
    {
     "name": "stdout",
     "output_type": "stream",
     "text": [
      "Train on 2000 samples, validate on 1000 samples\n",
      "Epoch 1/30\n",
      "2000/2000 [==============================] - 7s 3ms/step - loss: 0.6003 - acc: 0.6710 - val_loss: 0.4325 - val_acc: 0.8500\n",
      "Epoch 2/30\n",
      "2000/2000 [==============================] - 6s 3ms/step - loss: 0.4308 - acc: 0.7995 - val_loss: 0.3578 - val_acc: 0.8820\n",
      "Epoch 3/30\n",
      "2000/2000 [==============================] - 6s 3ms/step - loss: 0.3597 - acc: 0.8525 - val_loss: 0.3149 - val_acc: 0.8840\n",
      "Epoch 4/30\n",
      "2000/2000 [==============================] - 6s 3ms/step - loss: 0.3237 - acc: 0.8625 - val_loss: 0.3004 - val_acc: 0.8810\n",
      "Epoch 5/30\n",
      "2000/2000 [==============================] - 6s 3ms/step - loss: 0.2847 - acc: 0.8840 - val_loss: 0.2779 - val_acc: 0.8960\n",
      "Epoch 6/30\n",
      "2000/2000 [==============================] - 6s 3ms/step - loss: 0.2653 - acc: 0.8975 - val_loss: 0.2694 - val_acc: 0.9000\n",
      "Epoch 7/30\n",
      "2000/2000 [==============================] - 6s 3ms/step - loss: 0.2374 - acc: 0.9030 - val_loss: 0.2579 - val_acc: 0.8930\n",
      "Epoch 8/30\n",
      "2000/2000 [==============================] - 6s 3ms/step - loss: 0.2233 - acc: 0.9145 - val_loss: 0.2509 - val_acc: 0.8990\n",
      "Epoch 9/30\n",
      "2000/2000 [==============================] - 6s 3ms/step - loss: 0.2109 - acc: 0.9275 - val_loss: 0.2515 - val_acc: 0.8960\n",
      "Epoch 10/30\n",
      "2000/2000 [==============================] - 6s 3ms/step - loss: 0.2067 - acc: 0.9260 - val_loss: 0.2425 - val_acc: 0.9000\n",
      "Epoch 11/30\n",
      "2000/2000 [==============================] - 6s 3ms/step - loss: 0.1925 - acc: 0.9265 - val_loss: 0.2443 - val_acc: 0.8980\n",
      "Epoch 12/30\n",
      "2000/2000 [==============================] - 6s 3ms/step - loss: 0.1871 - acc: 0.9295 - val_loss: 0.2396 - val_acc: 0.8990\n",
      "Epoch 13/30\n",
      "2000/2000 [==============================] - 6s 3ms/step - loss: 0.1763 - acc: 0.9340 - val_loss: 0.2352 - val_acc: 0.9070\n",
      "Epoch 14/30\n",
      "2000/2000 [==============================] - 6s 3ms/step - loss: 0.1671 - acc: 0.9420 - val_loss: 0.2390 - val_acc: 0.9020\n",
      "Epoch 15/30\n",
      "2000/2000 [==============================] - 6s 3ms/step - loss: 0.1614 - acc: 0.9435 - val_loss: 0.2330 - val_acc: 0.9090\n",
      "Epoch 16/30\n",
      "2000/2000 [==============================] - 6s 3ms/step - loss: 0.1528 - acc: 0.9475 - val_loss: 0.2334 - val_acc: 0.9080\n",
      "Epoch 17/30\n",
      "2000/2000 [==============================] - 6s 3ms/step - loss: 0.1509 - acc: 0.9465 - val_loss: 0.2366 - val_acc: 0.9050\n",
      "Epoch 18/30\n",
      "2000/2000 [==============================] - 6s 3ms/step - loss: 0.1403 - acc: 0.9520 - val_loss: 0.2290 - val_acc: 0.9090\n",
      "Epoch 19/30\n",
      "2000/2000 [==============================] - 6s 3ms/step - loss: 0.1331 - acc: 0.9525 - val_loss: 0.2296 - val_acc: 0.9090\n",
      "Epoch 20/30\n",
      "2000/2000 [==============================] - 6s 3ms/step - loss: 0.1297 - acc: 0.9570 - val_loss: 0.2319 - val_acc: 0.9080\n",
      "Epoch 21/30\n",
      "2000/2000 [==============================] - 6s 3ms/step - loss: 0.1247 - acc: 0.9555 - val_loss: 0.2285 - val_acc: 0.9090\n",
      "Epoch 22/30\n",
      "2000/2000 [==============================] - 6s 3ms/step - loss: 0.1186 - acc: 0.9600 - val_loss: 0.2280 - val_acc: 0.9100\n",
      "Epoch 23/30\n",
      "2000/2000 [==============================] - 6s 3ms/step - loss: 0.1137 - acc: 0.9615 - val_loss: 0.2318 - val_acc: 0.9020\n",
      "Epoch 24/30\n",
      "2000/2000 [==============================] - 6s 3ms/step - loss: 0.1067 - acc: 0.9685 - val_loss: 0.2319 - val_acc: 0.9050\n",
      "Epoch 25/30\n",
      "2000/2000 [==============================] - 6s 3ms/step - loss: 0.1072 - acc: 0.9665 - val_loss: 0.2333 - val_acc: 0.9020\n",
      "Epoch 26/30\n",
      "2000/2000 [==============================] - 6s 3ms/step - loss: 0.1049 - acc: 0.9680 - val_loss: 0.2289 - val_acc: 0.9110\n",
      "Epoch 27/30\n",
      "2000/2000 [==============================] - 6s 3ms/step - loss: 0.0984 - acc: 0.9680 - val_loss: 0.2357 - val_acc: 0.9030\n",
      "Epoch 28/30\n",
      "2000/2000 [==============================] - 6s 3ms/step - loss: 0.0912 - acc: 0.9735 - val_loss: 0.2316 - val_acc: 0.9080\n",
      "Epoch 29/30\n",
      "2000/2000 [==============================] - 6s 3ms/step - loss: 0.0891 - acc: 0.9735 - val_loss: 0.2366 - val_acc: 0.9030\n",
      "Epoch 30/30\n",
      "2000/2000 [==============================] - 6s 3ms/step - loss: 0.0927 - acc: 0.9730 - val_loss: 0.2335 - val_acc: 0.9080\n"
     ]
    }
   ],
   "source": [
    "from keras import models\n",
    "from keras import layers\n",
    "from keras import optimizers\n",
    "\n",
    "model = models.Sequential()\n",
    "model.add(layers.Dense(256, activation='relu', input_dim=4 * 4 * 512))\n",
    "model.add(layers.Dropout(0.5))\n",
    "model.add(layers.Dense(1, activation='sigmoid'))\n",
    "\n",
    "model.compile(optimizer=optimizers.RMSprop(lr=2e-5),\n",
    "              loss='binary_crossentropy',\n",
    "              metrics=['acc'])\n",
    "\n",
    "history = model.fit(train_features, train_labels,\n",
    "                    epochs=30,\n",
    "                    batch_size=20,\n",
    "                    validation_data=(validation_features, validation_labels))\n"
   ]
  },
  {
   "cell_type": "code",
   "execution_count": 8,
   "metadata": {},
   "outputs": [
    {
     "data": {
      "image/png": "[encoded data removed]",
      "text/plain": [
       "<Figure size 432x288 with 1 Axes>"
      ]
     },
     "metadata": {
      "needs_background": "light"
     },
     "output_type": "display_data"
    }
   ],
   "source": [
    "import matplotlib.pyplot as plt\n",
    "\n",
    "acc = history.history['acc']\n",
    "val_acc = history.history['val_acc']\n",
    "loss = history.history['loss']\n",
    "val_loss = history.history['val_loss']\n",
    "\n",
    "epochs = range(len(acc))\n",
    "\n",
    "plt.plot(epochs, acc, 'bo', label='Training acc')\n",
    "plt.plot(epochs, val_acc, 'b', label='Validation acc')\n",
    "plt.title('Training and validation accuracy')\n",
    "plt.legend()\n",
    "\n",
    "plt.show()"
   ]
  },
  {
   "cell_type": "code",
   "execution_count": 9,
   "metadata": {},
   "outputs": [
    {
     "data": {
      "image/png": "[encoded data removed]",
      "text/plain": [
       "<Figure size 432x288 with 1 Axes>"
      ]
     },
     "metadata": {
      "needs_background": "light"
     },
     "output_type": "display_data"
    }
   ],
   "source": [
    "\n",
    "\n",
    "plt.figure()\n",
    "\n",
    "plt.plot(epochs, loss, 'bo', label='Training loss')\n",
    "plt.plot(epochs, val_loss, 'b', label='Validation loss')\n",
    "plt.title('Training and validation loss')\n",
    "plt.legend()\n",
    "\n",
    "plt.show()"
   ]
  },
  {
   "cell_type": "code",
   "execution_count": 10,
   "metadata": {},
   "outputs": [],
   "source": [
    "from keras import models\n",
    "from keras import layers\n",
    "\n",
    "model = models.Sequential()\n",
    "model.add(conv_base)\n",
    "model.add(layers.Flatten())\n",
    "model.add(layers.Dense(256, activation='relu'))\n",
    "model.add(layers.Dense(1, activation='sigmoid'))"
   ]
  },
  {
   "cell_type": "code",
   "execution_count": 11,
   "metadata": {},
   "outputs": [
    {
     "name": "stdout",
     "output_type": "stream",
     "text": [
      "_________________________________________________________________\n",
      "Layer (type)                 Output Shape              Param #   \n",
      "=================================================================\n",
      "vgg16 (Model)                (None, 4, 4, 512)         14714688  \n",
      "_________________________________________________________________\n",
      "flatten_1 (Flatten)          (None, 8192)              0         \n",
      "_________________________________________________________________\n",
      "dense_3 (Dense)              (None, 256)               2097408   \n",
      "_________________________________________________________________\n",
      "dense_4 (Dense)              (None, 1)                 257       \n",
      "=================================================================\n",
      "Total params: 16,812,353\n",
      "Trainable params: 16,812,353\n",
      "Non-trainable params: 0\n",
      "_________________________________________________________________\n"
     ]
    }
   ],
   "source": [
    "model.summary()"
   ]
  },
  {
   "cell_type": "code",
   "execution_count": 12,
   "metadata": {},
   "outputs": [
    {
     "name": "stdout",
     "output_type": "stream",
     "text": [
      "This is the number of trainable weights before freezing the conv base: 30\n"
     ]
    }
   ],
   "source": [
    "print('This is the number of trainable weights '\n",
    "      'before freezing the conv base:', len(model.trainable_weights))"
   ]
  },
  {
   "cell_type": "code",
   "execution_count": 13,
   "metadata": {},
   "outputs": [],
   "source": [
    "conv_base.trainable = False"
   ]
  },
  {
   "cell_type": "code",
   "execution_count": 14,
   "metadata": {},
   "outputs": [
    {
     "name": "stdout",
     "output_type": "stream",
     "text": [
      "This is the number of trainable weights after freezing the conv base: 4\n"
     ]
    }
   ],
   "source": [
    "print('This is the number of trainable weights '\n",
    "      'after freezing the conv base:', len(model.trainable_weights))"
   ]
  },
  {
   "cell_type": "code",
   "execution_count": 15,
   "metadata": {},
   "outputs": [
    {
     "name": "stdout",
     "output_type": "stream",
     "text": [
      "Found 2000 images belonging to 2 classes.\n",
      "Found 1000 images belonging to 2 classes.\n",
      "Epoch 1/30\n",
      "100/100 [==============================] - 1012s 10s/step - loss: 0.5903 - acc: 0.6915 - val_loss: 0.4583 - val_acc: 0.8270\n",
      "Epoch 2/30\n",
      "100/100 [==============================] - 1040s 10s/step - loss: 0.4967 - acc: 0.7745 - val_loss: 0.3753 - val_acc: 0.8610\n",
      "Epoch 3/30\n",
      "100/100 [==============================] - 1031s 10s/step - loss: 0.4334 - acc: 0.8095 - val_loss: 0.3275 - val_acc: 0.8750\n",
      "Epoch 4/30\n",
      "100/100 [==============================] - 1078s 11s/step - loss: 0.4074 - acc: 0.8280 - val_loss: 0.3066 - val_acc: 0.8870\n",
      "Epoch 5/30\n",
      "100/100 [==============================] - 1100s 11s/step - loss: 0.3896 - acc: 0.8225 - val_loss: 0.2937 - val_acc: 0.8890\n",
      "Epoch 6/30\n",
      "100/100 [==============================] - 1017s 10s/step - loss: 0.3629 - acc: 0.8375 - val_loss: 0.2825 - val_acc: 0.8870\n",
      "Epoch 7/30\n",
      "100/100 [==============================] - 1004s 10s/step - loss: 0.3592 - acc: 0.8470 - val_loss: 0.2769 - val_acc: 0.8940\n",
      "Epoch 8/30\n",
      "100/100 [==============================] - 1018s 10s/step - loss: 0.3552 - acc: 0.8345 - val_loss: 0.2683 - val_acc: 0.8920\n",
      "Epoch 9/30\n",
      "100/100 [==============================] - 1005s 10s/step - loss: 0.3462 - acc: 0.8400 - val_loss: 0.2657 - val_acc: 0.8900\n",
      "Epoch 10/30\n",
      "100/100 [==============================] - 1075s 11s/step - loss: 0.3379 - acc: 0.8505 - val_loss: 0.2618 - val_acc: 0.8960\n",
      "Epoch 11/30\n",
      "100/100 [==============================] - 1000s 10s/step - loss: 0.3291 - acc: 0.8570 - val_loss: 0.2597 - val_acc: 0.8950\n",
      "Epoch 12/30\n",
      "100/100 [==============================] - 1107s 11s/step - loss: 0.3327 - acc: 0.8485 - val_loss: 0.2567 - val_acc: 0.8960\n",
      "Epoch 13/30\n",
      "100/100 [==============================] - 1253s 13s/step - loss: 0.3319 - acc: 0.8585 - val_loss: 0.2487 - val_acc: 0.9030\n",
      "Epoch 14/30\n",
      "100/100 [==============================] - 1211s 12s/step - loss: 0.3279 - acc: 0.8520 - val_loss: 0.2477 - val_acc: 0.9030\n",
      "Epoch 15/30\n",
      "100/100 [==============================] - 1109s 11s/step - loss: 0.3291 - acc: 0.8585 - val_loss: 0.2446 - val_acc: 0.9020\n",
      "Epoch 16/30\n",
      "100/100 [==============================] - 1060s 11s/step - loss: 0.3317 - acc: 0.8515 - val_loss: 0.2434 - val_acc: 0.9020\n",
      "Epoch 17/30\n",
      "100/100 [==============================] - 1090s 11s/step - loss: 0.3093 - acc: 0.8600 - val_loss: 0.2484 - val_acc: 0.9000\n",
      "Epoch 18/30\n",
      "100/100 [==============================] - 1044s 10s/step - loss: 0.3148 - acc: 0.8680 - val_loss: 0.2431 - val_acc: 0.9070\n",
      "Epoch 19/30\n",
      "100/100 [==============================] - 1100s 11s/step - loss: 0.3020 - acc: 0.8755 - val_loss: 0.2448 - val_acc: 0.9020\n",
      "Epoch 20/30\n",
      "100/100 [==============================] - 1119s 11s/step - loss: 0.3144 - acc: 0.8620 - val_loss: 0.2536 - val_acc: 0.8910\n",
      "Epoch 21/30\n",
      "100/100 [==============================] - 1072s 11s/step - loss: 0.3042 - acc: 0.8700 - val_loss: 0.2433 - val_acc: 0.9030\n",
      "Epoch 22/30\n",
      "100/100 [==============================] - 1049s 10s/step - loss: 0.3082 - acc: 0.8680 - val_loss: 0.2473 - val_acc: 0.8970\n",
      "Epoch 23/30\n",
      "100/100 [==============================] - 1047s 10s/step - loss: 0.2869 - acc: 0.8750 - val_loss: 0.2403 - val_acc: 0.9110\n",
      "Epoch 24/30\n",
      "100/100 [==============================] - 1011s 10s/step - loss: 0.3063 - acc: 0.8625 - val_loss: 0.2386 - val_acc: 0.9090\n",
      "Epoch 25/30\n",
      "100/100 [==============================] - 1033s 10s/step - loss: 0.2823 - acc: 0.8860 - val_loss: 0.2381 - val_acc: 0.9080\n",
      "Epoch 26/30\n",
      "100/100 [==============================] - 1053s 11s/step - loss: 0.2931 - acc: 0.8735 - val_loss: 0.2489 - val_acc: 0.8960\n",
      "Epoch 27/30\n",
      "100/100 [==============================] - 1076s 11s/step - loss: 0.2847 - acc: 0.8715 - val_loss: 0.2414 - val_acc: 0.9000\n",
      "Epoch 28/30\n",
      "100/100 [==============================] - 1052s 11s/step - loss: 0.2930 - acc: 0.8750 - val_loss: 0.2381 - val_acc: 0.9080\n",
      "Epoch 29/30\n",
      "100/100 [==============================] - 1021s 10s/step - loss: 0.2802 - acc: 0.8835 - val_loss: 0.2338 - val_acc: 0.9100\n",
      "Epoch 30/30\n",
      "100/100 [==============================] - 1061s 11s/step - loss: 0.2840 - acc: 0.8750 - val_loss: 0.2352 - val_acc: 0.9100\n"
     ]
    }
   ],
   "source": [
    "from keras.preprocessing.image import ImageDataGenerator\n",
    "\n",
    "train_datagen = ImageDataGenerator(\n",
    "      rescale=1./255,\n",
    "      rotation_range=40,\n",
    "      width_shift_range=0.2,\n",
    "      height_shift_range=0.2,\n",
    "      shear_range=0.2,\n",
    "      zoom_range=0.2,\n",
    "      horizontal_flip=True,\n",
    "      fill_mode='nearest')\n",
    "\n",
    "# Note that the validation data should not be augmented!\n",
    "test_datagen = ImageDataGenerator(rescale=1./255)\n",
    "\n",
    "train_generator = train_datagen.flow_from_directory(\n",
    "        # This is the target directory\n",
    "        train_dir,\n",
    "        # All images will be resized to 150x150\n",
    "        target_size=(150, 150),\n",
    "        batch_size=20,\n",
    "        # Since we use binary_crossentropy loss, we need binary labels\n",
    "        class_mode='binary')\n",
    "\n",
    "validation_generator = test_datagen.flow_from_directory(\n",
    "        validation_dir,\n",
    "        target_size=(150, 150),\n",
    "        batch_size=20,\n",
    "        class_mode='binary')\n",
    "\n",
    "model.compile(loss='binary_crossentropy',\n",
    "              optimizer=optimizers.RMSprop(lr=2e-5),\n",
    "              metrics=['acc'])\n",
    "\n",
    "history = model.fit_generator(\n",
    "      train_generator,\n",
    "      steps_per_epoch=100,\n",
    "      epochs=30,\n",
    "      validation_data=validation_generator,\n",
    "      validation_steps=50,\n",
    "      verbose=1)"
   ]
  },
  {
   "cell_type": "code",
   "execution_count": 16,
   "metadata": {},
   "outputs": [],
   "source": [
    "model.save('cats_and_dogs_small_3.h5')"
   ]
  },
  {
   "cell_type": "code",
   "execution_count": 17,
   "metadata": {},
   "outputs": [
    {
     "data": {
      "image/png": "[encoded data removed]",
      "text/plain": [
       "<Figure size 432x288 with 1 Axes>"
      ]
     },
     "metadata": {
      "needs_background": "light"
     },
     "output_type": "display_data"
    },
    {
     "data": {
      "image/png": "[encoded data removed]",
      "text/plain": [
       "<Figure size 432x288 with 1 Axes>"
      ]
     },
     "metadata": {
      "needs_background": "light"
     },
     "output_type": "display_data"
    }
   ],
   "source": [
    "acc = history.history['acc']\n",
    "val_acc = history.history['val_acc']\n",
    "loss = history.history['loss']\n",
    "val_loss = history.history['val_loss']\n",
    "\n",
    "epochs = range(len(acc))\n",
    "\n",
    "plt.plot(epochs, acc, 'bo', label='Training acc')\n",
    "plt.plot(epochs, val_acc, 'b', label='Validation acc')\n",
    "plt.title('Training and validation accuracy')\n",
    "plt.legend()\n",
    "\n",
    "plt.figure()\n",
    "\n",
    "plt.plot(epochs, loss, 'bo', label='Training loss')\n",
    "plt.plot(epochs, val_loss, 'b', label='Validation loss')\n",
    "plt.title('Training and validation loss')\n",
    "plt.legend()\n",
    "\n",
    "plt.show()"
   ]
  },
  {
   "cell_type": "code",
   "execution_count": 18,
   "metadata": {},
   "outputs": [
    {
     "name": "stdout",
     "output_type": "stream",
     "text": [
      "_________________________________________________________________\n",
      "Layer (type)                 Output Shape              Param #   \n",
      "=================================================================\n",
      "input_1 (InputLayer)         (None, 150, 150, 3)       0         \n",
      "_________________________________________________________________\n",
      "block1_conv1 (Conv2D)        (None, 150, 150, 64)      1792      \n",
      "_________________________________________________________________\n",
      "block1_conv2 (Conv2D)        (None, 150, 150, 64)      36928     \n",
      "_________________________________________________________________\n",
      "block1_pool (MaxPooling2D)   (None, 75, 75, 64)        0         \n",
      "_________________________________________________________________\n",
      "block2_conv1 (Conv2D)        (None, 75, 75, 128)       73856     \n",
      "_________________________________________________________________\n",
      "block2_conv2 (Conv2D)        (None, 75, 75, 128)       147584    \n",
      "_________________________________________________________________\n",
      "block2_pool (MaxPooling2D)   (None, 37, 37, 128)       0         \n",
      "_________________________________________________________________\n",
      "block3_conv1 (Conv2D)        (None, 37, 37, 256)       295168    \n",
      "_________________________________________________________________\n",
      "block3_conv2 (Conv2D)        (None, 37, 37, 256)       590080    \n",
      "_________________________________________________________________\n",
      "block3_conv3 (Conv2D)        (None, 37, 37, 256)       590080    \n",
      "_________________________________________________________________\n",
      "block3_pool (MaxPooling2D)   (None, 18, 18, 256)       0         \n",
      "_________________________________________________________________\n",
      "block4_conv1 (Conv2D)        (None, 18, 18, 512)       1180160   \n",
      "_________________________________________________________________\n",
      "block4_conv2 (Conv2D)        (None, 18, 18, 512)       2359808   \n",
      "_________________________________________________________________\n",
      "block4_conv3 (Conv2D)        (None, 18, 18, 512)       2359808   \n",
      "_________________________________________________________________\n",
      "block4_pool (MaxPooling2D)   (None, 9, 9, 512)         0         \n",
      "_________________________________________________________________\n",
      "block5_conv1 (Conv2D)        (None, 9, 9, 512)         2359808   \n",
      "_________________________________________________________________\n",
      "block5_conv2 (Conv2D)        (None, 9, 9, 512)         2359808   \n",
      "_________________________________________________________________\n",
      "block5_conv3 (Conv2D)        (None, 9, 9, 512)         2359808   \n",
      "_________________________________________________________________\n",
      "block5_pool (MaxPooling2D)   (None, 4, 4, 512)         0         \n",
      "=================================================================\n",
      "Total params: 14,714,688\n",
      "Trainable params: 0\n",
      "Non-trainable params: 14,714,688\n",
      "_________________________________________________________________\n"
     ]
    }
   ],
   "source": [
    "conv_base.summary()"
   ]
  },
  {
   "cell_type": "code",
   "execution_count": 19,
   "metadata": {},
   "outputs": [],
   "source": [
    "conv_base.trainable = True\n",
    "\n",
    "set_trainable = False\n",
    "for layer in conv_base.layers:\n",
    "    if layer.name == 'block5_conv1':\n",
    "        set_trainable = True\n",
    "    if set_trainable:\n",
    "        layer.trainable = True\n",
    "    else:\n",
    "        layer.trainable = False"
   ]
  },
  {
   "cell_type": "code",
   "execution_count": 21,
   "metadata": {},
   "outputs": [
    {
     "data": {
      "text/plain": [
       "[<tf.Variable 'block5_conv1/kernel:0' shape=(3, 3, 512, 512) dtype=float32_ref>,\n",
       " <tf.Variable 'block5_conv1/bias:0' shape=(512,) dtype=float32_ref>,\n",
       " <tf.Variable 'block5_conv2/kernel:0' shape=(3, 3, 512, 512) dtype=float32_ref>,\n",
       " <tf.Variable 'block5_conv2/bias:0' shape=(512,) dtype=float32_ref>,\n",
       " <tf.Variable 'block5_conv3/kernel:0' shape=(3, 3, 512, 512) dtype=float32_ref>,\n",
       " <tf.Variable 'block5_conv3/bias:0' shape=(512,) dtype=float32_ref>,\n",
       " <tf.Variable 'dense_3/kernel:0' shape=(8192, 256) dtype=float32_ref>,\n",
       " <tf.Variable 'dense_3/bias:0' shape=(256,) dtype=float32_ref>,\n",
       " <tf.Variable 'dense_4/kernel:0' shape=(256, 1) dtype=float32_ref>,\n",
       " <tf.Variable 'dense_4/bias:0' shape=(1,) dtype=float32_ref>]"
      ]
     },
     "execution_count": 21,
     "metadata": {},
     "output_type": "execute_result"
    }
   ],
   "source": [
    "model.trainable_weights"
   ]
  },
  {
   "cell_type": "code",
   "execution_count": 22,
   "metadata": {},
   "outputs": [
    {
     "data": {
      "text/plain": [
       "[<tf.Variable 'block1_conv1/kernel:0' shape=(3, 3, 3, 64) dtype=float32_ref>,\n",
       " <tf.Variable 'block1_conv1/bias:0' shape=(64,) dtype=float32_ref>,\n",
       " <tf.Variable 'block1_conv2/kernel:0' shape=(3, 3, 64, 64) dtype=float32_ref>,\n",
       " <tf.Variable 'block1_conv2/bias:0' shape=(64,) dtype=float32_ref>,\n",
       " <tf.Variable 'block2_conv1/kernel:0' shape=(3, 3, 64, 128) dtype=float32_ref>,\n",
       " <tf.Variable 'block2_conv1/bias:0' shape=(128,) dtype=float32_ref>,\n",
       " <tf.Variable 'block2_conv2/kernel:0' shape=(3, 3, 128, 128) dtype=float32_ref>,\n",
       " <tf.Variable 'block2_conv2/bias:0' shape=(128,) dtype=float32_ref>,\n",
       " <tf.Variable 'block3_conv1/kernel:0' shape=(3, 3, 128, 256) dtype=float32_ref>,\n",
       " <tf.Variable 'block3_conv1/bias:0' shape=(256,) dtype=float32_ref>,\n",
       " <tf.Variable 'block3_conv2/kernel:0' shape=(3, 3, 256, 256) dtype=float32_ref>,\n",
       " <tf.Variable 'block3_conv2/bias:0' shape=(256,) dtype=float32_ref>,\n",
       " <tf.Variable 'block3_conv3/kernel:0' shape=(3, 3, 256, 256) dtype=float32_ref>,\n",
       " <tf.Variable 'block3_conv3/bias:0' shape=(256,) dtype=float32_ref>,\n",
       " <tf.Variable 'block4_conv1/kernel:0' shape=(3, 3, 256, 512) dtype=float32_ref>,\n",
       " <tf.Variable 'block4_conv1/bias:0' shape=(512,) dtype=float32_ref>,\n",
       " <tf.Variable 'block4_conv2/kernel:0' shape=(3, 3, 512, 512) dtype=float32_ref>,\n",
       " <tf.Variable 'block4_conv2/bias:0' shape=(512,) dtype=float32_ref>,\n",
       " <tf.Variable 'block4_conv3/kernel:0' shape=(3, 3, 512, 512) dtype=float32_ref>,\n",
       " <tf.Variable 'block4_conv3/bias:0' shape=(512,) dtype=float32_ref>]"
      ]
     },
     "execution_count": 22,
     "metadata": {},
     "output_type": "execute_result"
    }
   ],
   "source": [
    "model.non_trainable_weights"
   ]
  },
  {
   "cell_type": "code",
   "execution_count": 23,
   "metadata": {},
   "outputs": [
    {
     "name": "stdout",
     "output_type": "stream",
     "text": [
      "_________________________________________________________________\n",
      "Layer (type)                 Output Shape              Param #   \n",
      "=================================================================\n",
      "vgg16 (Model)                (None, 4, 4, 512)         14714688  \n",
      "_________________________________________________________________\n",
      "flatten_1 (Flatten)          (None, 8192)              0         \n",
      "_________________________________________________________________\n",
      "dense_3 (Dense)              (None, 256)               2097408   \n",
      "_________________________________________________________________\n",
      "dense_4 (Dense)              (None, 1)                 257       \n",
      "=================================================================\n",
      "Total params: 9,732,929\n",
      "Trainable params: 2,097,665\n",
      "Non-trainable params: 7,635,264\n",
      "_________________________________________________________________\n"
     ]
    },
    {
     "name": "stderr",
     "output_type": "stream",
     "text": [
      "E:\\Anaconda3\\lib\\site-packages\\keras\\engine\\training.py:490: UserWarning: Discrepancy between trainable weights and collected trainable weights, did you set `model.trainable` without calling `model.compile` after ?\n",
      "  'Discrepancy between trainable weights and collected trainable'\n"
     ]
    }
   ],
   "source": [
    "model.summary()"
   ]
  },
  {
   "cell_type": "code",
   "execution_count": 24,
   "metadata": {},
   "outputs": [
    {
     "data": {
      "text/plain": [
       "[<tf.Variable 'block5_conv1/kernel:0' shape=(3, 3, 512, 512) dtype=float32_ref>,\n",
       " <tf.Variable 'block5_conv1/bias:0' shape=(512,) dtype=float32_ref>,\n",
       " <tf.Variable 'block5_conv2/kernel:0' shape=(3, 3, 512, 512) dtype=float32_ref>,\n",
       " <tf.Variable 'block5_conv2/bias:0' shape=(512,) dtype=float32_ref>,\n",
       " <tf.Variable 'block5_conv3/kernel:0' shape=(3, 3, 512, 512) dtype=float32_ref>,\n",
       " <tf.Variable 'block5_conv3/bias:0' shape=(512,) dtype=float32_ref>,\n",
       " <tf.Variable 'dense_3/kernel:0' shape=(8192, 256) dtype=float32_ref>,\n",
       " <tf.Variable 'dense_3/bias:0' shape=(256,) dtype=float32_ref>,\n",
       " <tf.Variable 'dense_4/kernel:0' shape=(256, 1) dtype=float32_ref>,\n",
       " <tf.Variable 'dense_4/bias:0' shape=(1,) dtype=float32_ref>]"
      ]
     },
     "execution_count": 24,
     "metadata": {},
     "output_type": "execute_result"
    }
   ],
   "source": [
    "model.trainable_weights"
   ]
  },
  {
   "cell_type": "code",
   "execution_count": 25,
   "metadata": {},
   "outputs": [],
   "source": [
    "model.compile(loss='binary_crossentropy',\n",
    "              optimizer=optimizers.RMSprop(lr=1e-5),\n",
    "              metrics=['acc'])"
   ]
  },
  {
   "cell_type": "code",
   "execution_count": 26,
   "metadata": {
    "scrolled": true
   },
   "outputs": [
    {
     "name": "stdout",
     "output_type": "stream",
     "text": [
      "Epoch 1/100\n",
      "100/100 [==============================] - 1137s 11s/step - loss: 0.3089 - acc: 0.8600 - val_loss: 0.2322 - val_acc: 0.9080\n",
      "Epoch 2/100\n",
      "100/100 [==============================] - 1129s 11s/step - loss: 0.2489 - acc: 0.8900 - val_loss: 0.2513 - val_acc: 0.9070\n",
      "Epoch 3/100\n",
      "100/100 [==============================] - 1135s 11s/step - loss: 0.2501 - acc: 0.8880 - val_loss: 0.2201 - val_acc: 0.9080\n",
      "Epoch 4/100\n",
      "100/100 [==============================] - 1121s 11s/step - loss: 0.2224 - acc: 0.9005 - val_loss: 0.1983 - val_acc: 0.9250\n",
      "Epoch 5/100\n",
      "100/100 [==============================] - 1128s 11s/step - loss: 0.2214 - acc: 0.9020 - val_loss: 0.1743 - val_acc: 0.9200\n",
      "Epoch 6/100\n",
      "100/100 [==============================] - 1122s 11s/step - loss: 0.1910 - acc: 0.9195 - val_loss: 0.2050 - val_acc: 0.9320\n",
      "Epoch 7/100\n",
      "100/100 [==============================] - 1120s 11s/step - loss: 0.1965 - acc: 0.9205 - val_loss: 0.1795 - val_acc: 0.9310\n",
      "Epoch 8/100\n",
      "100/100 [==============================] - 1128s 11s/step - loss: 0.1842 - acc: 0.9270 - val_loss: 0.1899 - val_acc: 0.9270\n",
      "Epoch 9/100\n",
      "100/100 [==============================] - 1137s 11s/step - loss: 0.1633 - acc: 0.9310 - val_loss: 0.2564 - val_acc: 0.8990\n",
      "Epoch 10/100\n",
      "100/100 [==============================] - 1125s 11s/step - loss: 0.1513 - acc: 0.9360 - val_loss: 0.2074 - val_acc: 0.9220\n",
      "Epoch 11/100\n",
      "100/100 [==============================] - 1121s 11s/step - loss: 0.1468 - acc: 0.9375 - val_loss: 0.1807 - val_acc: 0.9260\n",
      "Epoch 12/100\n",
      "100/100 [==============================] - 1129s 11s/step - loss: 0.1472 - acc: 0.9400 - val_loss: 0.1680 - val_acc: 0.9320\n",
      "Epoch 13/100\n",
      "100/100 [==============================] - 1122s 11s/step - loss: 0.1213 - acc: 0.9535 - val_loss: 0.2127 - val_acc: 0.9290\n",
      "Epoch 14/100\n",
      "100/100 [==============================] - 1122s 11s/step - loss: 0.1364 - acc: 0.9460 - val_loss: 0.1898 - val_acc: 0.9290\n",
      "Epoch 15/100\n",
      "100/100 [==============================] - 1120s 11s/step - loss: 0.1311 - acc: 0.9455 - val_loss: 0.2114 - val_acc: 0.9180\n",
      "Epoch 16/100\n",
      "100/100 [==============================] - 1137s 11s/step - loss: 0.1118 - acc: 0.9580 - val_loss: 0.1726 - val_acc: 0.9420\n",
      "Epoch 17/100\n",
      "100/100 [==============================] - 1122s 11s/step - loss: 0.1050 - acc: 0.9570 - val_loss: 0.2001 - val_acc: 0.9250\n",
      "Epoch 18/100\n",
      "100/100 [==============================] - 1130s 11s/step - loss: 0.1166 - acc: 0.9555 - val_loss: 0.1961 - val_acc: 0.9300\n",
      "Epoch 19/100\n",
      "100/100 [==============================] - 1128s 11s/step - loss: 0.1102 - acc: 0.9565 - val_loss: 0.1435 - val_acc: 0.9430\n",
      "Epoch 20/100\n",
      "100/100 [==============================] - 1122s 11s/step - loss: 0.0945 - acc: 0.9650 - val_loss: 0.2049 - val_acc: 0.9280\n",
      "Epoch 21/100\n",
      "100/100 [==============================] - 1120s 11s/step - loss: 0.1050 - acc: 0.9545 - val_loss: 0.2265 - val_acc: 0.9290\n",
      "Epoch 22/100\n",
      "100/100 [==============================] - 1125s 11s/step - loss: 0.0885 - acc: 0.9640 - val_loss: 0.1805 - val_acc: 0.9310\n",
      "Epoch 23/100\n",
      "100/100 [==============================] - 1131s 11s/step - loss: 0.0903 - acc: 0.9620 - val_loss: 0.1608 - val_acc: 0.9410\n",
      "Epoch 24/100\n",
      "100/100 [==============================] - 1121s 11s/step - loss: 0.0904 - acc: 0.9670 - val_loss: 0.1868 - val_acc: 0.9300\n",
      "Epoch 25/100\n",
      "100/100 [==============================] - 1121s 11s/step - loss: 0.0804 - acc: 0.9670 - val_loss: 0.1946 - val_acc: 0.9340\n",
      "Epoch 26/100\n",
      "100/100 [==============================] - 1130s 11s/step - loss: 0.0794 - acc: 0.9720 - val_loss: 0.2296 - val_acc: 0.9280\n",
      "Epoch 27/100\n",
      "100/100 [==============================] - 1130s 11s/step - loss: 0.0798 - acc: 0.9730 - val_loss: 0.2518 - val_acc: 0.9170\n",
      "Epoch 28/100\n",
      "100/100 [==============================] - 1127s 11s/step - loss: 0.0662 - acc: 0.9750 - val_loss: 0.1437 - val_acc: 0.9420\n",
      "Epoch 29/100\n",
      "100/100 [==============================] - 1122s 11s/step - loss: 0.0686 - acc: 0.9720 - val_loss: 0.2355 - val_acc: 0.9220\n",
      "Epoch 30/100\n",
      "100/100 [==============================] - 1128s 11s/step - loss: 0.0887 - acc: 0.9660 - val_loss: 0.1698 - val_acc: 0.9330\n",
      "Epoch 31/100\n",
      "100/100 [==============================] - 1121s 11s/step - loss: 0.0625 - acc: 0.9735 - val_loss: 0.2054 - val_acc: 0.9340\n",
      "Epoch 32/100\n",
      "100/100 [==============================] - 1121s 11s/step - loss: 0.0683 - acc: 0.9735 - val_loss: 0.2489 - val_acc: 0.9240\n",
      "Epoch 33/100\n",
      "100/100 [==============================] - 1131s 11s/step - loss: 0.0581 - acc: 0.9735 - val_loss: 0.2117 - val_acc: 0.9290\n",
      "Epoch 34/100\n",
      "100/100 [==============================] - 1129s 11s/step - loss: 0.0638 - acc: 0.9760 - val_loss: 0.1882 - val_acc: 0.9420\n",
      "Epoch 35/100\n",
      "100/100 [==============================] - 1123s 11s/step - loss: 0.0574 - acc: 0.9725 - val_loss: 0.2653 - val_acc: 0.9190\n",
      "Epoch 36/100\n",
      "100/100 [==============================] - 1129s 11s/step - loss: 0.0566 - acc: 0.9775 - val_loss: 0.2223 - val_acc: 0.9310\n",
      "Epoch 37/100\n",
      "100/100 [==============================] - 1133s 11s/step - loss: 0.0589 - acc: 0.9755 - val_loss: 0.1803 - val_acc: 0.9400\n",
      "Epoch 38/100\n",
      "100/100 [==============================] - 1122s 11s/step - loss: 0.0541 - acc: 0.9795 - val_loss: 0.2527 - val_acc: 0.9250\n",
      "Epoch 39/100\n",
      "100/100 [==============================] - 1121s 11s/step - loss: 0.0657 - acc: 0.9780 - val_loss: 0.1848 - val_acc: 0.9410\n",
      "Epoch 40/100\n",
      "100/100 [==============================] - 1131s 11s/step - loss: 0.0572 - acc: 0.9795 - val_loss: 0.2362 - val_acc: 0.9230\n",
      "Epoch 41/100\n",
      "100/100 [==============================] - 1177s 12s/step - loss: 0.0522 - acc: 0.9800 - val_loss: 0.2079 - val_acc: 0.9380\n",
      "Epoch 42/100\n",
      "100/100 [==============================] - 1197s 12s/step - loss: 0.0540 - acc: 0.9805 - val_loss: 0.2125 - val_acc: 0.9400\n",
      "Epoch 43/100\n",
      "100/100 [==============================] - 1176s 12s/step - loss: 0.0494 - acc: 0.9815 - val_loss: 0.2109 - val_acc: 0.9310\n",
      "Epoch 44/100\n",
      "100/100 [==============================] - 1147s 11s/step - loss: 0.0470 - acc: 0.9825 - val_loss: 0.2430 - val_acc: 0.9330\n",
      "Epoch 45/100\n",
      "100/100 [==============================] - 1146s 11s/step - loss: 0.0492 - acc: 0.9845 - val_loss: 0.1979 - val_acc: 0.9430\n",
      "Epoch 46/100\n",
      "100/100 [==============================] - 1158s 12s/step - loss: 0.0404 - acc: 0.9840 - val_loss: 0.2797 - val_acc: 0.9350\n",
      "Epoch 47/100\n",
      "100/100 [==============================] - 1158s 12s/step - loss: 0.0515 - acc: 0.9790 - val_loss: 0.2329 - val_acc: 0.9290\n",
      "Epoch 48/100\n",
      "100/100 [==============================] - 1141s 11s/step - loss: 0.0363 - acc: 0.9860 - val_loss: 0.3293 - val_acc: 0.9250\n",
      "Epoch 49/100\n",
      "100/100 [==============================] - 1146s 11s/step - loss: 0.0446 - acc: 0.9830 - val_loss: 0.2261 - val_acc: 0.9350\n",
      "Epoch 50/100\n",
      "100/100 [==============================] - 1149s 11s/step - loss: 0.0424 - acc: 0.9855 - val_loss: 0.2938 - val_acc: 0.9260\n",
      "Epoch 51/100\n",
      "100/100 [==============================] - 1142s 11s/step - loss: 0.0378 - acc: 0.9870 - val_loss: 0.1970 - val_acc: 0.9450\n",
      "Epoch 52/100\n",
      "100/100 [==============================] - 1190s 12s/step - loss: 0.0490 - acc: 0.9840 - val_loss: 0.2832 - val_acc: 0.9250\n",
      "Epoch 53/100\n",
      "100/100 [==============================] - 1149s 11s/step - loss: 0.0458 - acc: 0.9815 - val_loss: 0.2299 - val_acc: 0.9320\n",
      "Epoch 54/100\n",
      "100/100 [==============================] - 1151s 12s/step - loss: 0.0440 - acc: 0.9840 - val_loss: 0.1986 - val_acc: 0.9370\n",
      "Epoch 55/100\n",
      "100/100 [==============================] - 1144s 11s/step - loss: 0.0313 - acc: 0.9890 - val_loss: 0.2284 - val_acc: 0.9360\n",
      "Epoch 56/100\n",
      "100/100 [==============================] - 1163s 12s/step - loss: 0.0365 - acc: 0.9870 - val_loss: 0.2054 - val_acc: 0.9410\n",
      "Epoch 57/100\n",
      "100/100 [==============================] - 1144s 11s/step - loss: 0.0353 - acc: 0.9865 - val_loss: 0.2553 - val_acc: 0.9340\n",
      "Epoch 58/100\n",
      "100/100 [==============================] - 1142s 11s/step - loss: 0.0313 - acc: 0.9875 - val_loss: 0.2457 - val_acc: 0.9370\n",
      "Epoch 59/100\n",
      "100/100 [==============================] - 1163s 12s/step - loss: 0.0326 - acc: 0.9850 - val_loss: 0.2271 - val_acc: 0.9450\n",
      "Epoch 60/100\n",
      "100/100 [==============================] - 1165s 12s/step - loss: 0.0338 - acc: 0.9855 - val_loss: 0.3517 - val_acc: 0.9180\n"
     ]
    },
    {
     "name": "stdout",
     "output_type": "stream",
     "text": [
      "Epoch 61/100\n",
      "100/100 [==============================] - 1146s 11s/step - loss: 0.0402 - acc: 0.9855 - val_loss: 0.3383 - val_acc: 0.9260\n",
      "Epoch 62/100\n",
      "100/100 [==============================] - 1178s 12s/step - loss: 0.0365 - acc: 0.9895 - val_loss: 0.2139 - val_acc: 0.9430\n",
      "Epoch 63/100\n",
      "100/100 [==============================] - 1147s 11s/step - loss: 0.0264 - acc: 0.9915 - val_loss: 0.2342 - val_acc: 0.9400\n",
      "Epoch 64/100\n",
      "100/100 [==============================] - 1138s 11s/step - loss: 0.0335 - acc: 0.9905 - val_loss: 0.2054 - val_acc: 0.9480\n",
      "Epoch 65/100\n",
      "100/100 [==============================] - 1177s 12s/step - loss: 0.0311 - acc: 0.9900 - val_loss: 0.2926 - val_acc: 0.9300\n",
      "Epoch 66/100\n",
      "100/100 [==============================] - 1176s 12s/step - loss: 0.0378 - acc: 0.9870 - val_loss: 0.4535 - val_acc: 0.9110\n",
      "Epoch 67/100\n",
      "100/100 [==============================] - 1177s 12s/step - loss: 0.0313 - acc: 0.9870 - val_loss: 0.2788 - val_acc: 0.9330\n",
      "Epoch 68/100\n",
      "100/100 [==============================] - 1200s 12s/step - loss: 0.0311 - acc: 0.9895 - val_loss: 0.2197 - val_acc: 0.9470\n",
      "Epoch 69/100\n",
      "100/100 [==============================] - 1211s 12s/step - loss: 0.0297 - acc: 0.9885 - val_loss: 0.3290 - val_acc: 0.9230\n",
      "Epoch 70/100\n",
      "100/100 [==============================] - 1187s 12s/step - loss: 0.0382 - acc: 0.9860 - val_loss: 0.2300 - val_acc: 0.9330\n",
      "Epoch 71/100\n",
      "100/100 [==============================] - 1188s 12s/step - loss: 0.0303 - acc: 0.9885 - val_loss: 0.2075 - val_acc: 0.9440\n",
      "Epoch 72/100\n",
      "100/100 [==============================] - 1159s 12s/step - loss: 0.0332 - acc: 0.9915 - val_loss: 0.1946 - val_acc: 0.9490\n",
      "Epoch 73/100\n",
      "100/100 [==============================] - 1163s 12s/step - loss: 0.0289 - acc: 0.9905 - val_loss: 0.3272 - val_acc: 0.9300\n",
      "Epoch 74/100\n",
      "100/100 [==============================] - 1158s 12s/step - loss: 0.0341 - acc: 0.9900 - val_loss: 0.1907 - val_acc: 0.9460\n",
      "Epoch 75/100\n",
      "100/100 [==============================] - 1144s 11s/step - loss: 0.0326 - acc: 0.9875 - val_loss: 0.2309 - val_acc: 0.9410\n",
      "Epoch 76/100\n",
      "100/100 [==============================] - 1274s 13s/step - loss: 0.0240 - acc: 0.9895 - val_loss: 0.3148 - val_acc: 0.9250\n",
      "Epoch 77/100\n",
      "100/100 [==============================] - 1274s 13s/step - loss: 0.0371 - acc: 0.9865 - val_loss: 0.2259 - val_acc: 0.9440\n",
      "Epoch 78/100\n",
      "100/100 [==============================] - 1131s 11s/step - loss: 0.0229 - acc: 0.9915 - val_loss: 0.3011 - val_acc: 0.9280\n",
      "Epoch 79/100\n",
      "100/100 [==============================] - 1141s 11s/step - loss: 0.0241 - acc: 0.9935 - val_loss: 0.2028 - val_acc: 0.9400\n",
      "Epoch 80/100\n",
      "100/100 [==============================] - 1127s 11s/step - loss: 0.0303 - acc: 0.9860 - val_loss: 0.2129 - val_acc: 0.9420\n",
      "Epoch 81/100\n",
      "100/100 [==============================] - 1125s 11s/step - loss: 0.0308 - acc: 0.9895 - val_loss: 0.3078 - val_acc: 0.9260\n",
      "Epoch 82/100\n",
      "100/100 [==============================] - 1124s 11s/step - loss: 0.0290 - acc: 0.9905 - val_loss: 0.1654 - val_acc: 0.9510\n",
      "Epoch 83/100\n",
      "100/100 [==============================] - 1142s 11s/step - loss: 0.0331 - acc: 0.9895 - val_loss: 0.2543 - val_acc: 0.9380\n",
      "Epoch 84/100\n",
      "100/100 [==============================] - 1122s 11s/step - loss: 0.0197 - acc: 0.9915 - val_loss: 0.5211 - val_acc: 0.9140\n",
      "Epoch 85/100\n",
      "100/100 [==============================] - 1122s 11s/step - loss: 0.0187 - acc: 0.9935 - val_loss: 0.2359 - val_acc: 0.9480\n",
      "Epoch 86/100\n",
      "100/100 [==============================] - 1139s 11s/step - loss: 0.0184 - acc: 0.9930 - val_loss: 0.3209 - val_acc: 0.9350\n",
      "Epoch 87/100\n",
      "100/100 [==============================] - 1123s 11s/step - loss: 0.0275 - acc: 0.9915 - val_loss: 0.2648 - val_acc: 0.9380\n",
      "Epoch 88/100\n",
      "100/100 [==============================] - 1122s 11s/step - loss: 0.0296 - acc: 0.9880 - val_loss: 0.2344 - val_acc: 0.9410\n",
      "Epoch 89/100\n",
      "100/100 [==============================] - 1122s 11s/step - loss: 0.0169 - acc: 0.9945 - val_loss: 0.2947 - val_acc: 0.9450\n",
      "Epoch 90/100\n",
      "100/100 [==============================] - 1131s 11s/step - loss: 0.0296 - acc: 0.9905 - val_loss: 0.2720 - val_acc: 0.9290\n",
      "Epoch 91/100\n",
      "100/100 [==============================] - 1122s 11s/step - loss: 0.0230 - acc: 0.9905 - val_loss: 0.4249 - val_acc: 0.9190\n",
      "Epoch 92/100\n",
      "100/100 [==============================] - 1121s 11s/step - loss: 0.0196 - acc: 0.9940 - val_loss: 0.2629 - val_acc: 0.9370\n",
      "Epoch 93/100\n",
      "100/100 [==============================] - 1140s 11s/step - loss: 0.0190 - acc: 0.9945 - val_loss: 0.2487 - val_acc: 0.9420\n",
      "Epoch 94/100\n",
      "100/100 [==============================] - 1122s 11s/step - loss: 0.0196 - acc: 0.9930 - val_loss: 0.2474 - val_acc: 0.9360\n",
      "Epoch 95/100\n",
      "100/100 [==============================] - 1123s 11s/step - loss: 0.0260 - acc: 0.9905 - val_loss: 0.2506 - val_acc: 0.9360\n",
      "Epoch 96/100\n",
      "100/100 [==============================] - 1122s 11s/step - loss: 0.0177 - acc: 0.9915 - val_loss: 0.2851 - val_acc: 0.9420\n",
      "Epoch 97/100\n",
      "100/100 [==============================] - 1138s 11s/step - loss: 0.0250 - acc: 0.9910 - val_loss: 0.3001 - val_acc: 0.9360\n",
      "Epoch 98/100\n",
      "100/100 [==============================] - 1122s 11s/step - loss: 0.0260 - acc: 0.9915 - val_loss: 0.2943 - val_acc: 0.9370\n",
      "Epoch 99/100\n",
      "100/100 [==============================] - 1127s 11s/step - loss: 0.0314 - acc: 0.9900 - val_loss: 0.2094 - val_acc: 0.9440\n",
      "Epoch 100/100\n",
      "100/100 [==============================] - 1130s 11s/step - loss: 0.0190 - acc: 0.9920 - val_loss: 0.2111 - val_acc: 0.9460\n"
     ]
    }
   ],
   "source": [
    "history = model.fit_generator(\n",
    "      train_generator,\n",
    "      steps_per_epoch=100,\n",
    "      epochs=100,\n",
    "      validation_data=validation_generator,\n",
    "      validation_steps=50)"
   ]
  },
  {
   "cell_type": "code",
   "execution_count": 27,
   "metadata": {},
   "outputs": [],
   "source": [
    "model.save('cats_and_dogs_small_4.h5')"
   ]
  },
  {
   "cell_type": "code",
   "execution_count": 28,
   "metadata": {},
   "outputs": [
    {
     "data": {
      "image/png": "[encoded data removed]",
      "text/plain": [
       "<Figure size 432x288 with 1 Axes>"
      ]
     },
     "metadata": {
      "needs_background": "light"
     },
     "output_type": "display_data"
    },
    {
     "data": {
      "image/png": "[encoded data removed]",
      "text/plain": [
       "<Figure size 432x288 with 1 Axes>"
      ]
     },
     "metadata": {
      "needs_background": "light"
     },
     "output_type": "display_data"
    }
   ],
   "source": [
    "acc = history.history['acc']\n",
    "val_acc = history.history['val_acc']\n",
    "loss = history.history['loss']\n",
    "val_loss = history.history['val_loss']\n",
    "\n",
    "epochs = range(1,len(acc)+1)\n",
    "\n",
    "plt.plot(epochs, acc, 'bo', label='Training acc')\n",
    "plt.plot(epochs, val_acc, 'b', label='Validation acc')\n",
    "plt.title('Training and validation accuracy')\n",
    "plt.legend()\n",
    "\n",
    "plt.figure()\n",
    "\n",
    "plt.plot(epochs, loss, 'bo', label='Training loss')\n",
    "plt.plot(epochs, val_loss, 'b', label='Validation loss')\n",
    "plt.title('Training and validation loss')\n",
    "plt.legend()\n",
    "\n",
    "plt.show()"
   ]
  },
  {
   "cell_type": "code",
   "execution_count": 29,
   "metadata": {},
   "outputs": [
    {
     "data": {
      "image/png": "[encoded data removed]",
      "text/plain": [
       "<Figure size 432x288 with 1 Axes>"
      ]
     },
     "metadata": {
      "needs_background": "light"
     },
     "output_type": "display_data"
    },
    {
     "data": {
      "image/png": "[encoded data removed]",
      "text/plain": [
       "<Figure size 432x288 with 1 Axes>"
      ]
     },
     "metadata": {
      "needs_background": "light"
     },
     "output_type": "display_data"
    }
   ],
   "source": [
    "def smooth_curve(points, factor=0.8):\n",
    "  smoothed_points = []\n",
    "  for point in points:\n",
    "    if smoothed_points:\n",
    "      previous = smoothed_points[-1]\n",
    "      smoothed_points.append(previous * factor + point * (1 - factor))\n",
    "    else:\n",
    "      smoothed_points.append(point)\n",
    "  return smoothed_points\n",
    "\n",
    "plt.plot(epochs,\n",
    "         smooth_curve(acc), 'bo', label='Smoothed training acc')\n",
    "plt.plot(epochs,\n",
    "         smooth_curve(val_acc), 'b', label='Smoothed validation acc')\n",
    "plt.title('Training and validation accuracy')\n",
    "plt.legend()\n",
    "\n",
    "plt.figure()\n",
    "\n",
    "plt.plot(epochs,\n",
    "         smooth_curve(loss), 'bo', label='Smoothed training loss')\n",
    "plt.plot(epochs,\n",
    "         smooth_curve(val_loss), 'b', label='Smoothed validation loss')\n",
    "plt.title('Training and validation loss')\n",
    "plt.legend()\n",
    "\n",
    "plt.show()"
   ]
  }
 ],
 "metadata": {
  "kernelspec": {
   "display_name": "Python 3",
   "language": "python",
   "name": "python3"
  },
  "language_info": {
   "codemirror_mode": {
    "name": "ipython",
    "version": 3
   },
   "file_extension": ".py",
   "mimetype": "text/x-python",
   "name": "python",
   "nbconvert_exporter": "python",
   "pygments_lexer": "ipython3",
   "version": "3.7.2"
  }
 },
 "nbformat": 4,
 "nbformat_minor": 2
}
